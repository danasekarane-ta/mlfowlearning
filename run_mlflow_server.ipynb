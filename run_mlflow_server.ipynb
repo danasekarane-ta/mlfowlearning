{
 "cells": [
  {
   "cell_type": "code",
   "execution_count": 1,
   "metadata": {},
   "outputs": [
    {
     "name": "stdout",
     "output_type": "stream",
     "text": [
      "[2024-05-21 12:15:52 +0530] [3513] [INFO] Starting gunicorn 22.0.0\n",
      "[2024-05-21 12:15:52 +0530] [3513] [INFO] Listening at: http://127.0.0.1:8080 (3513)\n",
      "[2024-05-21 12:15:52 +0530] [3513] [INFO] Using worker: sync\n",
      "[2024-05-21 12:15:52 +0530] [3515] [INFO] Booting worker with pid: 3515\n",
      "[2024-05-21 12:15:53 +0530] [3519] [INFO] Booting worker with pid: 3519\n",
      "[2024-05-21 12:15:53 +0530] [3523] [INFO] Booting worker with pid: 3523\n",
      "[2024-05-21 12:15:53 +0530] [3524] [INFO] Booting worker with pid: 3524\n"
     ]
    }
   ],
   "source": [
    "!mlflow server --host 127.0.0.1 --port 8080\n"
   ]
  }
 ],
 "metadata": {
  "kernelspec": {
   "display_name": "myenv",
   "language": "python",
   "name": "python3"
  },
  "language_info": {
   "codemirror_mode": {
    "name": "ipython",
    "version": 3
   },
   "file_extension": ".py",
   "mimetype": "text/x-python",
   "name": "python",
   "nbconvert_exporter": "python",
   "pygments_lexer": "ipython3",
   "version": "3.12.3"
  }
 },
 "nbformat": 4,
 "nbformat_minor": 2
}
